{
  "nbformat": 4,
  "nbformat_minor": 0,
  "metadata": {
    "colab": {
      "name": "FinalProjectCode.ipynb",
      "provenance": []
    },
    "kernelspec": {
      "name": "python3",
      "display_name": "Python 3"
    }
  },
  "cells": [
    {
      "cell_type": "markdown",
      "metadata": {
        "id": "Inl5MQwNYctZ",
        "colab_type": "text"
      },
      "source": [
        "**Install library**"
      ]
    },
    {
      "cell_type": "code",
      "metadata": {
        "id": "PUJwb41WTFsw",
        "colab_type": "code",
        "colab": {
          "base_uri": "https://localhost:8080/",
          "height": 118
        },
        "outputId": "adc9af71-93aa-4b34-d42e-bbaa88d3b4c0"
      },
      "source": [
        "pip install surprise"
      ],
      "execution_count": 51,
      "outputs": [
        {
          "output_type": "stream",
          "text": [
            "Requirement already satisfied: surprise in /usr/local/lib/python3.6/dist-packages (0.1)\n",
            "Requirement already satisfied: scikit-surprise in /usr/local/lib/python3.6/dist-packages (from surprise) (1.1.0)\n",
            "Requirement already satisfied: scipy>=1.0.0 in /usr/local/lib/python3.6/dist-packages (from scikit-surprise->surprise) (1.3.2)\n",
            "Requirement already satisfied: six>=1.10.0 in /usr/local/lib/python3.6/dist-packages (from scikit-surprise->surprise) (1.12.0)\n",
            "Requirement already satisfied: joblib>=0.11 in /usr/local/lib/python3.6/dist-packages (from scikit-surprise->surprise) (0.14.0)\n",
            "Requirement already satisfied: numpy>=1.11.2 in /usr/local/lib/python3.6/dist-packages (from scikit-surprise->surprise) (1.17.4)\n"
          ],
          "name": "stdout"
        }
      ]
    },
    {
      "cell_type": "markdown",
      "metadata": {
        "id": "JeAmx3bhYg0W",
        "colab_type": "text"
      },
      "source": [
        "**Import libraries and load dataset and split into train and test data**"
      ]
    },
    {
      "cell_type": "code",
      "metadata": {
        "id": "_YF9gv6uTNA0",
        "colab_type": "code",
        "colab": {}
      },
      "source": [
        "from surprise import Dataset\n",
        "from surprise import Reader\n",
        "import pandas as pd\n",
        "import numpy as np\n",
        "import os, io\n",
        "from surprise import SVD\n",
        "from surprise import accuracy\n",
        "import csv"
      ],
      "execution_count": 0,
      "outputs": []
    },
    {
      "cell_type": "code",
      "metadata": {
        "id": "BI6XKXII70DE",
        "colab_type": "code",
        "colab": {}
      },
      "source": [
        "import pandas as pd\n",
        "import numpy as np\n",
        "from sklearn.model_selection import train_test_split\n",
        "data = pd.read_json('renttherunway_final_data.json', lines=True)\n",
        "train, test = train_test_split(data, test_size=0.2)"
      ],
      "execution_count": 0,
      "outputs": []
    },
    {
      "cell_type": "markdown",
      "metadata": {
        "id": "JHT_4YCAZApd",
        "colab_type": "text"
      },
      "source": [
        "**Preprocessing functions defined**"
      ]
    },
    {
      "cell_type": "code",
      "metadata": {
        "id": "PXQtoDKcGGBb",
        "colab_type": "code",
        "colab": {}
      },
      "source": [
        "def preprocessAge(data):\n",
        "  bins = pd.IntervalIndex.from_tuples([(5, 15), (15, 30), (30, 50),(50,65),(65,100)])\n",
        "  x = pd.cut(data['age'].to_list(), bins)\n",
        "  x.categories = ['1','2','3','4','5']\n",
        "  data['age_bins']  = x\n",
        "  age_Preprocessed_data = data[~data['age_bins'].isnull()]\n",
        "  print ('{0} rows got dropped after age preprocessing'.format(str(data.shape[0] - age_Preprocessed_data.shape[0])))\n",
        "  return age_Preprocessed_data"
      ],
      "execution_count": 0,
      "outputs": []
    },
    {
      "cell_type": "code",
      "metadata": {
        "id": "a0xnJVumGy6z",
        "colab_type": "code",
        "colab": {}
      },
      "source": [
        "def preprocessBustsize(age_Preprocessed_data):\n",
        "  data_bust_size_not_null = age_Preprocessed_data[~age_Preprocessed_data['bust size'].isnull()]\n",
        "  data_bust_size_not_null['bust size'] = data_bust_size_not_null['bust size'].apply(lambda x : (int(x[:2]), x[2:]))\n",
        "  data_bust_size_not_null.shape\n",
        "  data_bust_size_not_null[['bust Size1', 'bust']] = pd.DataFrame(data_bust_size_not_null['bust size'].tolist(), index=data_bust_size_not_null.index)\n",
        "  bustDict = {'a': 1, 'aa': 1, 'b': 2, 'c': 3, 'd': 4, \n",
        "            'd+': 5, 'dd': 5, 'ddd/e': 6,\n",
        "           'f':7 , 'g': 8, 'h': 9, 'i': 10, 'j': 11}\n",
        "  data_bust_size_not_null['bust1'] = data_bust_size_not_null['bust'].map(bustDict)\n",
        "# Calculatign model of bust size based on age grp.\n",
        "  def funct(df):\n",
        "    return df.mode()\n",
        "  x = data_bust_size_not_null[['age_bins','bust Size1','bust1']].groupby('age_bins').apply(funct)\n",
        "  x.reset_index(inplace= True, drop = True)\n",
        "  data_bust_size_null = age_Preprocessed_data[age_Preprocessed_data['bust size'].isnull()]\n",
        "  data_bust_size_null = pd.merge(data_bust_size_null, x, how ='left', left_on = 'age_bins', right_on = 'age_bins')\n",
        "  data_bust_size_cleansed = data_bust_size_not_null.append(data_bust_size_null)\n",
        "  return data_bust_size_cleansed"
      ],
      "execution_count": 0,
      "outputs": []
    },
    {
      "cell_type": "code",
      "metadata": {
        "id": "zoHB8prKHj_n",
        "colab_type": "code",
        "colab": {}
      },
      "source": [
        "def preprocessHeight(data_bust_size_cleansed):\n",
        "  data_bust_size_cleansed['heightCM'] = data_bust_size_cleansed['height'].apply(lambda x : (int(x.split(\"\\'\")[0]) * 30.48) + (int(x.split(\"\\'\")[1][:-1]) * 2.54) \n",
        "                                                        if type(x) == str else x)\n",
        "  data_bust_size_cleansed['heightCM'].fillna((data_bust_size_cleansed['heightCM'].mean()), inplace=True)\n",
        "  return data_bust_size_cleansed"
      ],
      "execution_count": 0,
      "outputs": []
    },
    {
      "cell_type": "code",
      "metadata": {
        "id": "Ba3NFr7qKXSE",
        "colab_type": "code",
        "colab": {}
      },
      "source": [
        "def preprocessWeight(data_bust_size_cleansed):\n",
        "  data_bust_size_cleansed['weightLbs'] = data_bust_size_cleansed['weight'].apply(lambda x : int(x[:-3])                                                        if type(x) == str else x)\n",
        "  data_bust_size_cleansed['weightLbs'].fillna((data_bust_size_cleansed['weightLbs'].mean()), inplace=True)\n",
        "  return data_bust_size_cleansed"
      ],
      "execution_count": 0,
      "outputs": []
    },
    {
      "cell_type": "code",
      "metadata": {
        "id": "FgtIuCcNLKb3",
        "colab_type": "code",
        "colab": {}
      },
      "source": [
        "def preprocessRentedFor(data_bust_size_cleansed):\n",
        "  data_bust_size_cleansed['rented for'].fillna('other', inplace=True)\n",
        "  return data_bust_size_cleansed"
      ],
      "execution_count": 0,
      "outputs": []
    },
    {
      "cell_type": "code",
      "metadata": {
        "id": "8Vyt1rpWMF3R",
        "colab_type": "code",
        "colab": {}
      },
      "source": [
        "def preprocessBodytype(data_bust_size_cleansed):\n",
        "  # Calculating model of body type based on age grp.\n",
        "  data_body_type_not_null = data_bust_size_cleansed[~data_bust_size_cleansed['body type'].isnull()]\n",
        "  def func(df):\n",
        "    return df.mode()\n",
        "  x = data_body_type_not_null[['bust Size1','body type']].groupby('bust Size1').apply(func)\n",
        "  x.reset_index(inplace= True, drop = True)\n",
        "  # print(x)\n",
        "  data_body_type_null = data_bust_size_cleansed[data_bust_size_cleansed['body type'].isnull()]\n",
        "  data_body_type_null = pd.merge(data_body_type_null, x, how ='left', left_on = 'bust Size1', right_on = 'bust Size1')\n",
        "  # print(data_body_type_null)\n",
        "  data_body_type_cleansed = data_body_type_not_null.append(data_body_type_null,sort=True)\n",
        "  # print(data_body_type_cleansed)\n",
        "  data_body_type_cleansed['body type'].fillna(data_body_type_cleansed['body type_y'], inplace=True)\n",
        "  del data_body_type_cleansed['body type_x']\n",
        "  del data_body_type_cleansed['body type_y']\n",
        "  return data_body_type_cleansed"
      ],
      "execution_count": 0,
      "outputs": []
    },
    {
      "cell_type": "code",
      "metadata": {
        "id": "yVvtA4K_Njpk",
        "colab_type": "code",
        "colab": {}
      },
      "source": [
        "def createFinalDataframe(cleansedData):\n",
        "  final_df=cleansedData.copy()\n",
        "  final_df=final_df.drop(['rented for','rating','review_date','category','age_bins','bust','bust size','fit','height','item_id','review_summary','user_id','weight','review_text'],axis=1)\n",
        "  cleanup_nums = {\"body type\":     {\"hourglass\": 1, \"straight & narrow\": 2, \"pear\": 3,\"athletic\": 4, \"full bust\": 5,\"petite\": 6, \"apple\": 7}}\n",
        "  final_df.replace(cleanup_nums, inplace=True)\n",
        "  return final_df"
      ],
      "execution_count": 0,
      "outputs": []
    },
    {
      "cell_type": "code",
      "metadata": {
        "id": "e4w_GHG0SUP7",
        "colab_type": "code",
        "colab": {}
      },
      "source": [
        "def createFinalTestDataframe(cleansedData):\n",
        "  final_df=cleansedData.copy()\n",
        "  final_df=final_df.drop(['rating','review_date','category','age_bins','bust','bust size','fit','height','item_id','review_summary','weight','review_text'],axis=1)\n",
        "  cleanup_nums = {\"body type\":     {\"hourglass\": 1, \"straight & narrow\": 2, \"pear\": 3,\"athletic\": 4, \"full bust\": 5,\"petite\": 6, \"apple\": 7}}\n",
        "  final_df.replace(cleanup_nums, inplace=True)\n",
        "  return final_df"
      ],
      "execution_count": 0,
      "outputs": []
    },
    {
      "cell_type": "markdown",
      "metadata": {
        "id": "_mFNMflUZGHL",
        "colab_type": "text"
      },
      "source": [
        "**Call functions for train data**"
      ]
    },
    {
      "cell_type": "code",
      "metadata": {
        "id": "Lwu8oNK2Gfsy",
        "colab_type": "code",
        "colab": {
          "base_uri": "https://localhost:8080/",
          "height": 591
        },
        "outputId": "3e7b3449-e18d-461d-c820-cfb2e2b67b30"
      },
      "source": [
        "age_Preprocessed_data=preprocessAge(train)\n",
        "data_bust_size_cleansed=preprocessBustsize(age_Preprocessed_data)\n",
        "data_bust_size_cleansed=preprocessHeight(data_bust_size_cleansed)\n",
        "data_bust_size_cleansed=preprocessWeight(data_bust_size_cleansed)\n",
        "data_bust_size_cleansed=preprocessRentedFor(data_bust_size_cleansed)\n",
        "cleansedData=preprocessBodytype(data_bust_size_cleansed)\n",
        "final_df=createFinalDataframe(cleansedData)"
      ],
      "execution_count": 62,
      "outputs": [
        {
          "output_type": "stream",
          "text": [
            "/usr/local/lib/python3.6/dist-packages/ipykernel_launcher.py:5: SettingWithCopyWarning: \n",
            "A value is trying to be set on a copy of a slice from a DataFrame.\n",
            "Try using .loc[row_indexer,col_indexer] = value instead\n",
            "\n",
            "See the caveats in the documentation: http://pandas.pydata.org/pandas-docs/stable/user_guide/indexing.html#returning-a-view-versus-a-copy\n",
            "  \"\"\"\n"
          ],
          "name": "stderr"
        },
        {
          "output_type": "stream",
          "text": [
            "895 rows got dropped after age preprocessing\n"
          ],
          "name": "stdout"
        },
        {
          "output_type": "stream",
          "text": [
            "/usr/local/lib/python3.6/dist-packages/ipykernel_launcher.py:3: SettingWithCopyWarning: \n",
            "A value is trying to be set on a copy of a slice from a DataFrame.\n",
            "Try using .loc[row_indexer,col_indexer] = value instead\n",
            "\n",
            "See the caveats in the documentation: http://pandas.pydata.org/pandas-docs/stable/user_guide/indexing.html#returning-a-view-versus-a-copy\n",
            "  This is separate from the ipykernel package so we can avoid doing imports until\n",
            "/usr/local/lib/python3.6/dist-packages/pandas/core/frame.py:3509: SettingWithCopyWarning: \n",
            "A value is trying to be set on a copy of a slice from a DataFrame.\n",
            "Try using .loc[row_indexer,col_indexer] = value instead\n",
            "\n",
            "See the caveats in the documentation: http://pandas.pydata.org/pandas-docs/stable/user_guide/indexing.html#returning-a-view-versus-a-copy\n",
            "  self[k1] = value[k2]\n",
            "/usr/local/lib/python3.6/dist-packages/ipykernel_launcher.py:9: SettingWithCopyWarning: \n",
            "A value is trying to be set on a copy of a slice from a DataFrame.\n",
            "Try using .loc[row_indexer,col_indexer] = value instead\n",
            "\n",
            "See the caveats in the documentation: http://pandas.pydata.org/pandas-docs/stable/user_guide/indexing.html#returning-a-view-versus-a-copy\n",
            "  if __name__ == '__main__':\n",
            "/usr/local/lib/python3.6/dist-packages/pandas/core/frame.py:7138: FutureWarning: Sorting because non-concatenation axis is not aligned. A future version\n",
            "of pandas will change to not sort by default.\n",
            "\n",
            "To accept the future behavior, pass 'sort=False'.\n",
            "\n",
            "To retain the current behavior and silence the warning, pass 'sort=True'.\n",
            "\n",
            "  sort=sort,\n"
          ],
          "name": "stderr"
        }
      ]
    },
    {
      "cell_type": "markdown",
      "metadata": {
        "id": "NvrLHyrRZNmd",
        "colab_type": "text"
      },
      "source": [
        "**Classifier to predict body type**"
      ]
    },
    {
      "cell_type": "code",
      "metadata": {
        "id": "deBcwTb1OsaM",
        "colab_type": "code",
        "colab": {}
      },
      "source": [
        "feature_names = ['age', 'bust Size1','bust1','size','heightCM','weightLbs']\n",
        "X = final_df[feature_names]\n",
        "y = final_df['body type']\n",
        "from sklearn.model_selection import train_test_split\n",
        "X_train, X_test, y_train, y_test = train_test_split(X, y, random_state=0)"
      ],
      "execution_count": 0,
      "outputs": []
    },
    {
      "cell_type": "code",
      "metadata": {
        "id": "79tNWjCLOy0x",
        "colab_type": "code",
        "colab": {
          "base_uri": "https://localhost:8080/",
          "height": 138
        },
        "outputId": "d9c09d70-204b-40af-8392-c7907dc0e0d2"
      },
      "source": [
        "from sklearn.linear_model import LogisticRegression\n",
        "logreg = LogisticRegression()\n",
        "logreg.fit(X_train, y_train)\n",
        "print('Accuracy of Logistic regression classifier on training set: {:.2f}'\n",
        "     .format(logreg.score(X_train, y_train)))\n",
        "print('Accuracy of Logistic regression classifier on test set: {:.2f}'\n",
        "     .format(logreg.score(X_test, y_test)))"
      ],
      "execution_count": 64,
      "outputs": [
        {
          "output_type": "stream",
          "text": [
            "/usr/local/lib/python3.6/dist-packages/sklearn/linear_model/logistic.py:432: FutureWarning: Default solver will be changed to 'lbfgs' in 0.22. Specify a solver to silence this warning.\n",
            "  FutureWarning)\n",
            "/usr/local/lib/python3.6/dist-packages/sklearn/linear_model/logistic.py:469: FutureWarning: Default multi_class will be changed to 'auto' in 0.22. Specify the multi_class option to silence this warning.\n",
            "  \"this warning.\", FutureWarning)\n"
          ],
          "name": "stderr"
        },
        {
          "output_type": "stream",
          "text": [
            "Accuracy of Logistic regression classifier on training set: 0.44\n",
            "Accuracy of Logistic regression classifier on test set: 0.45\n"
          ],
          "name": "stdout"
        }
      ]
    },
    {
      "cell_type": "code",
      "metadata": {
        "id": "wAHIHXVwO3KK",
        "colab_type": "code",
        "colab": {
          "base_uri": "https://localhost:8080/",
          "height": 50
        },
        "outputId": "a0e61d83-ac3a-4c5d-e71c-45f6804e44f5"
      },
      "source": [
        "from sklearn.neighbors import KNeighborsClassifier\n",
        "knn = KNeighborsClassifier()\n",
        "knn.fit(X_train, y_train)\n",
        "print('Accuracy of K-NN classifier on training set: {:.2f}'\n",
        "     .format(knn.score(X_train, y_train)))\n",
        "print('Accuracy of K-NN classifier on test set: {:.2f}'\n",
        "     .format(knn.score(X_test, y_test)))"
      ],
      "execution_count": 65,
      "outputs": [
        {
          "output_type": "stream",
          "text": [
            "Accuracy of K-NN classifier on training set: 0.64\n",
            "Accuracy of K-NN classifier on test set: 0.50\n"
          ],
          "name": "stdout"
        }
      ]
    },
    {
      "cell_type": "code",
      "metadata": {
        "id": "2VMqNBWTO-nH",
        "colab_type": "code",
        "colab": {
          "base_uri": "https://localhost:8080/",
          "height": 50
        },
        "outputId": "a0949bd7-cc26-4d4a-934b-485b8a0adb19"
      },
      "source": [
        "from sklearn.ensemble import RandomForestClassifier\n",
        "model = RandomForestClassifier(n_estimators=100, \n",
        "                               bootstrap = True,\n",
        "                               max_features = 'sqrt')\n",
        "model.fit(X_train, y_train)\n",
        "print('Accuracy of Random forest classifier on training set: {:.2f}'\n",
        "     .format(model.score(X_train, y_train)))\n",
        "print('Accuracy of Random forest classifier on test set: {:.2f}'\n",
        "     .format(model.score(X_test, y_test)))"
      ],
      "execution_count": 66,
      "outputs": [
        {
          "output_type": "stream",
          "text": [
            "Accuracy of Random forest classifier on training set: 0.89\n",
            "Accuracy of Random forest classifier on test set: 0.58\n"
          ],
          "name": "stdout"
        }
      ]
    },
    {
      "cell_type": "markdown",
      "metadata": {
        "id": "G6lFykuDZUmc",
        "colab_type": "text"
      },
      "source": [
        "**Call functions on test data**"
      ]
    },
    {
      "cell_type": "code",
      "metadata": {
        "id": "RYu7iOztPf78",
        "colab_type": "code",
        "colab": {
          "base_uri": "https://localhost:8080/",
          "height": 591
        },
        "outputId": "a4bc3b84-e96f-457f-8263-df90746eff03"
      },
      "source": [
        "age_Preprocessed_testdata=preprocessAge(test)\n",
        "testdata_bust_size_cleansed=preprocessBustsize(age_Preprocessed_testdata)\n",
        "testdata_bust_size_cleansed=preprocessHeight(testdata_bust_size_cleansed)\n",
        "testdata_bust_size_cleansed=preprocessWeight(testdata_bust_size_cleansed)\n",
        "testdata_bust_size_cleansed=preprocessRentedFor(testdata_bust_size_cleansed)\n",
        "cleansedTestData=preprocessBodytype(testdata_bust_size_cleansed)\n",
        "final_test_df=createFinalTestDataframe(cleansedTestData)"
      ],
      "execution_count": 67,
      "outputs": [
        {
          "output_type": "stream",
          "text": [
            "/usr/local/lib/python3.6/dist-packages/ipykernel_launcher.py:5: SettingWithCopyWarning: \n",
            "A value is trying to be set on a copy of a slice from a DataFrame.\n",
            "Try using .loc[row_indexer,col_indexer] = value instead\n",
            "\n",
            "See the caveats in the documentation: http://pandas.pydata.org/pandas-docs/stable/user_guide/indexing.html#returning-a-view-versus-a-copy\n",
            "  \"\"\"\n",
            "/usr/local/lib/python3.6/dist-packages/ipykernel_launcher.py:3: SettingWithCopyWarning: \n",
            "A value is trying to be set on a copy of a slice from a DataFrame.\n",
            "Try using .loc[row_indexer,col_indexer] = value instead\n",
            "\n",
            "See the caveats in the documentation: http://pandas.pydata.org/pandas-docs/stable/user_guide/indexing.html#returning-a-view-versus-a-copy\n",
            "  This is separate from the ipykernel package so we can avoid doing imports until\n",
            "/usr/local/lib/python3.6/dist-packages/pandas/core/frame.py:3509: SettingWithCopyWarning: \n",
            "A value is trying to be set on a copy of a slice from a DataFrame.\n",
            "Try using .loc[row_indexer,col_indexer] = value instead\n",
            "\n",
            "See the caveats in the documentation: http://pandas.pydata.org/pandas-docs/stable/user_guide/indexing.html#returning-a-view-versus-a-copy\n",
            "  self[k1] = value[k2]\n",
            "/usr/local/lib/python3.6/dist-packages/ipykernel_launcher.py:9: SettingWithCopyWarning: \n",
            "A value is trying to be set on a copy of a slice from a DataFrame.\n",
            "Try using .loc[row_indexer,col_indexer] = value instead\n",
            "\n",
            "See the caveats in the documentation: http://pandas.pydata.org/pandas-docs/stable/user_guide/indexing.html#returning-a-view-versus-a-copy\n",
            "  if __name__ == '__main__':\n"
          ],
          "name": "stderr"
        },
        {
          "output_type": "stream",
          "text": [
            "191 rows got dropped after age preprocessing\n"
          ],
          "name": "stdout"
        },
        {
          "output_type": "stream",
          "text": [
            "/usr/local/lib/python3.6/dist-packages/pandas/core/frame.py:7138: FutureWarning: Sorting because non-concatenation axis is not aligned. A future version\n",
            "of pandas will change to not sort by default.\n",
            "\n",
            "To accept the future behavior, pass 'sort=False'.\n",
            "\n",
            "To retain the current behavior and silence the warning, pass 'sort=True'.\n",
            "\n",
            "  sort=sort,\n"
          ],
          "name": "stderr"
        }
      ]
    },
    {
      "cell_type": "code",
      "metadata": {
        "id": "oo8ALPTdQTsu",
        "colab_type": "code",
        "colab": {}
      },
      "source": [
        "feature_names = ['age', 'bust Size1','bust1','size','heightCM','weightLbs','rented for','user_id']\n",
        "testdata = final_test_df[feature_names]"
      ],
      "execution_count": 0,
      "outputs": []
    },
    {
      "cell_type": "markdown",
      "metadata": {
        "id": "LlhHghYoZbUu",
        "colab_type": "text"
      },
      "source": [
        "**For each test data instance, predict body type using classifier, then cluster based on body type and rented for, then predict rating for each item id, then recommend highest rating item id**"
      ]
    },
    {
      "cell_type": "code",
      "metadata": {
        "id": "apgvK0ooQrKe",
        "colab_type": "code",
        "colab": {
          "base_uri": "https://localhost:8080/",
          "height": 353
        },
        "outputId": "1444efb2-1a6a-4983-bce1-96e7d25a5d16"
      },
      "source": [
        "for i in range(5):#len(testdata)\n",
        "    age = testdata.iloc[i,0]\n",
        "    bustSize1 = testdata.iloc[i,1]\n",
        "    bust1 = testdata.iloc[i,2]\n",
        "    size = testdata.iloc[i,3]\n",
        "    heightCM = testdata.iloc[i,4]\n",
        "    weightLbs = testdata.iloc[i,5]\n",
        "    xnew=[[age,bustSize1,bust1,size,heightCM,weightLbs]]\n",
        "    bodytypenumber=model.predict(xnew)\n",
        "    #print(\"Predicted body type:\",bodytypenumber)\n",
        "    bodytypearray=[\"NaN\",\"hourglass\", \"straight & narrow\", \"pear\",\"athletic\", \"full bust\",\"petite\", \"apple\"]\n",
        "    bodytype=np.asanyarray(bodytypearray)[bodytypenumber]\n",
        "    print(\"Predicted body type:\",bodytype)\n",
        "    cluster_df=cleansedData.copy()\n",
        "    groupedbybodytype = cluster_df.groupby('body type')\n",
        "    for name,group in groupedbybodytype:\n",
        "      if(bodytype==name):\n",
        "        #print(name)\n",
        "        #print(group)\n",
        "        grouped_df=group.copy()\n",
        "    rentedFor=testdata.iloc[i,6]\n",
        "    groupedbybodytype = grouped_df.groupby('rented for')\n",
        "    for name,group in groupedbybodytype:\n",
        "      if(rentedFor==name):\n",
        "        #print(name)\n",
        "        #print(group)\n",
        "        cf_df=group.copy()\n",
        "    cf_df=cf_df[['user_id','item_id','rating']].copy()\n",
        "    reader = Reader(rating_scale=(1,10))\n",
        "    traindata=Dataset.load_from_df(cf_df,reader)\n",
        "    trainingSet = traindata.build_full_trainset()\n",
        "    svdAlgo = SVD(n_factors=200,n_epochs=50)\n",
        "    svdAlgo.fit(trainingSet)\n",
        "    itemid=cf_df['item_id'].unique()\n",
        "    ratingOutput = pd.DataFrame(columns=['item_id', 'rating'])\n",
        "    for i in range(len(itemid)):\n",
        "      user=cf_df.iloc[i,0]\n",
        "      item=cf_df.iloc[i,1]\n",
        "      output=svdAlgo.predict(user,item,r_ui=None,clip=True,verbose=False)\n",
        "      ratingOutput = ratingOutput.append({'item_id': item, 'rating': output.est}, ignore_index=True)\n",
        "    ratingOutput=ratingOutput.sort_values('rating',ascending=False)\n",
        "    outputdf=ratingOutput.head(10).copy()\n",
        "    #print(\"Top 10 recommended items with their predicted ratings:\")\n",
        "    #outputdf.head()\n",
        "    rawdf = pd.read_json ('renttherunway_final_data.json',lines=True)\n",
        "    itemID=outputdf.iloc[1,0].astype('int64')\n",
        "    print(\"Recommended itemID:\",itemID)\n",
        "    filter = rawdf['item_id']==itemID\n",
        "    rawdf.where(filter, inplace = True)\n",
        "    print(\"Recommended category:\",rawdf.head(1)['category'].astype('str'))"
      ],
      "execution_count": 69,
      "outputs": [
        {
          "output_type": "stream",
          "text": [
            "Predicted body type: ['straight & narrow']\n",
            "Recommended itemID: 304354\n",
            "Recommended category: 0    nan\n",
            "Name: category, dtype: object\n",
            "Predicted body type: ['petite']\n",
            "Recommended itemID: 1133906\n",
            "Recommended category: 0    nan\n",
            "Name: category, dtype: object\n",
            "Predicted body type: ['petite']\n",
            "Recommended itemID: 123793\n",
            "Recommended category: 0    nan\n",
            "Name: category, dtype: object\n",
            "Predicted body type: ['athletic']\n",
            "Recommended itemID: 889239\n",
            "Recommended category: 0    nan\n",
            "Name: category, dtype: object\n",
            "Predicted body type: ['athletic']\n",
            "Recommended itemID: 268562\n",
            "Recommended category: 0    nan\n",
            "Name: category, dtype: object\n"
          ],
          "name": "stdout"
        }
      ]
    }
  ]
}